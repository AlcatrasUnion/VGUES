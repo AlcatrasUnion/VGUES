{
  "nbformat": 4,
  "nbformat_minor": 0,
  "metadata": {
    "colab": {
      "provenance": [],
      "authorship_tag": "ABX9TyP78da9+uQTWcGamJLmrdnp",
      "include_colab_link": true
    },
    "kernelspec": {
      "name": "python3",
      "display_name": "Python 3"
    },
    "language_info": {
      "name": "python"
    }
  },
  "cells": [
    {
      "cell_type": "markdown",
      "metadata": {
        "id": "view-in-github",
        "colab_type": "text"
      },
      "source": [
        "<a href=\"https://colab.research.google.com/github/AlcatrasUnion/VGUES/blob/main/%D0%93%D0%BE%D1%82%D0%BE%D0%B2%D0%B0%D1%8F%20%D1%85%D1%83%D1%80%D0%BC%D0%B0.ipynb\" target=\"_parent\"><img src=\"https://colab.research.google.com/assets/colab-badge.svg\" alt=\"Open In Colab\"/></a>"
      ]
    },
    {
      "cell_type": "code",
      "execution_count": 10,
      "metadata": {
        "id": "wiyPUK89Dk8N",
        "outputId": "c44808ca-e95f-45b7-b282-ec42da639a08",
        "colab": {
          "base_uri": "https://localhost:8080/"
        }
      },
      "outputs": [
        {
          "output_type": "stream",
          "name": "stdout",
          "text": [
            "Введите последовательность 32131\n",
            "   3   2   1   3   1    Dlina\n",
            "1 = -1 2 = -2 3 = 23\n"
          ]
        }
      ],
      "source": [
        "tsr = input(\"Введите последовательность \")\n",
        "y = int(tsr.find(\",\"))\n",
        "it1 = y\n",
        "x = y + 1\n",
        "x = tsr[:x]\n",
        "tsr = tsr.replace(x,\" \")\n",
        "\n",
        "y1 = int(tsr.find(\",\"))\n",
        "it2 = y1 - 1\n",
        "x1 = y1 + 1\n",
        "x1 = tsr[:x1]\n",
        "tsr = tsr.replace(x1,\" \")\n",
        "\n",
        "print (tsr , \"Dlina\")\n",
        "it3 = len(tsr)\n",
        "\n",
        "print(\"1 =\", it1, \"2 =\", it2 , \"3 =\", it3)\n",
        "\n"
      ]
    },
    {
      "cell_type": "code",
      "source": [
        "tr = \"Привет, мир\" #input(\"Введите строку \")\n",
        "n = 8 #int(input(\"Введите n \"))\n",
        "m = 5 #int(input(\"Введите m \"))\n",
        "\n",
        "it1 = tr[:n]\n",
        "it2 = tr[m:]\n",
        "it1 = it1.replace(',','')\n",
        "it2 = it2.replace(',','')\n",
        "it3 = it1 + it2\n",
        "it3 = it3.split();\n",
        "print (it3)"
      ],
      "metadata": {
        "colab": {
          "base_uri": "https://localhost:8080/"
        },
        "id": "ZNCwiKr8IRa2",
        "outputId": "2db3b980-3bbe-4d85-9bd5-ac927d715fca"
      },
      "execution_count": 26,
      "outputs": [
        {
          "output_type": "stream",
          "name": "stdout",
          "text": [
            "['Привет', 'т', 'мир']\n"
          ]
        }
      ]
    }
  ]
}