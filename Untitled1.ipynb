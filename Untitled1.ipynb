{
  "nbformat": 4,
  "nbformat_minor": 0,
  "metadata": {
    "colab": {
      "provenance": [],
      "authorship_tag": "ABX9TyMefXpxXrSW4OALes0XlJFI",
      "include_colab_link": true
    },
    "kernelspec": {
      "name": "python3",
      "display_name": "Python 3"
    },
    "language_info": {
      "name": "python"
    }
  },
  "cells": [
    {
      "cell_type": "markdown",
      "metadata": {
        "id": "view-in-github",
        "colab_type": "text"
      },
      "source": [
        "<a href=\"https://colab.research.google.com/github/AlcatrasUnion/VGUES/blob/main/Untitled1.ipynb\" target=\"_parent\"><img src=\"https://colab.research.google.com/assets/colab-badge.svg\" alt=\"Open In Colab\"/></a>"
      ]
    },
    {
      "cell_type": "code",
      "execution_count": null,
      "metadata": {
        "id": "wiyPUK89Dk8N"
      },
      "outputs": [],
      "source": [
        "tsr = input(\"Введите последовательность \")\n",
        "y = int(tsr.find(\",\"))\n",
        "it1 = y\n",
        "x = y + 1\n",
        "x = tsr[:x]\n",
        "tsr = tsr.replace(x,\" \")\n",
        "\n",
        "y1 = int(tsr.find(\",\"))\n",
        "it2 = y1 - 1\n",
        "x1 = y1 + 1\n",
        "x1 = tsr[:x1]\n",
        "tsr = tsr.replace(x1,\" \")\n",
        "\n",
        "print (tsr , \"Dlina\")\n",
        "it3 = len(tsr)\n",
        "\n",
        "print(\"1 =\", it1, \"2 =\", it2 , \"3 =\", it3)\n",
        "\n"
      ]
    },
    {
      "cell_type": "code",
      "source": [
        "tr = input(\"Введите строку \")\n",
        "n = int(input(\"Введите n \"))\n",
        "m = int(input(\"Введите m \"))\n",
        "\n",
        "it1 = tr[:n]\n",
        "it2 = tr[m:]\n",
        "it1.replace(\",\",\" \")\n",
        "it2.replace(\",\",\" \")\n",
        "it1.split(sep=None,maxsplit=-1)\n",
        "it2.split(sep=None,maxsplit=-1)\n",
        "print (it1,it2)"
      ],
      "metadata": {
        "colab": {
          "base_uri": "https://localhost:8080/"
        },
        "id": "ZNCwiKr8IRa2",
        "outputId": "554b68e1-f85e-4ef4-ab5d-218ed514e8db"
      },
      "execution_count": 77,
      "outputs": [
        {
          "output_type": "stream",
          "name": "stdout",
          "text": [
            "Введите строку Привет, мир\n",
            "Введите n 8\n",
            "Введите m 5\n",
            "Привет,  т, мир\n"
          ]
        }
      ]
    }
  ]
}