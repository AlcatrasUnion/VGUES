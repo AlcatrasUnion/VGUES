{
  "nbformat": 4,
  "nbformat_minor": 0,
  "metadata": {
    "colab": {
      "provenance": [],
      "authorship_tag": "ABX9TyM3XAZvObO1iBmA6GDV/0dq",
      "include_colab_link": true
    },
    "kernelspec": {
      "name": "python3",
      "display_name": "Python 3"
    },
    "language_info": {
      "name": "python"
    }
  },
  "cells": [
    {
      "cell_type": "markdown",
      "metadata": {
        "id": "view-in-github",
        "colab_type": "text"
      },
      "source": [
        "<a href=\"https://colab.research.google.com/github/AlcatrasUnion/VGUES/blob/main/%D0%9A%D0%BE%D1%82%D0%BB%D1%8F%D1%80%D0%BE%D0%B2_%D0%91%D0%98%D0%9A_24_%D0%98%D0%922_%D0%9B%D0%A0_1.ipynb\" target=\"_parent\"><img src=\"https://colab.research.google.com/assets/colab-badge.svg\" alt=\"Open In Colab\"/></a>"
      ]
    },
    {
      "cell_type": "code",
      "execution_count": null,
      "metadata": {
        "id": "2H0T7mpgCZkp"
      },
      "outputs": [],
      "source": []
    },
    {
      "cell_type": "markdown",
      "source": [],
      "metadata": {
        "id": "vYe7vZPACewq"
      }
    },
    {
      "cell_type": "code",
      "source": [
        "# print (\"hellou\")\n",
        "\n",
        "a = 1\n",
        "b = 2\n",
        "c =  a + b\n",
        "print(\"c = \",c)\n",
        "print(\"a + b = \",a+b)\n",
        "\n",
        "\n",
        "\n",
        "\n",
        "\n",
        "\n",
        "\n",
        "\n",
        "\n",
        "\n",
        "\n",
        "\n",
        "\n",
        "\n"
      ],
      "metadata": {
        "colab": {
          "base_uri": "https://localhost:8080/"
        },
        "id": "CT3ODrDPCfkg",
        "outputId": "7909bb70-0e51-4540-a7f8-5363b9b08b38"
      },
      "execution_count": 10,
      "outputs": [
        {
          "output_type": "stream",
          "name": "stdout",
          "text": [
            "c =  3\n",
            "a + b =  3\n"
          ]
        }
      ]
    }
  ]
}