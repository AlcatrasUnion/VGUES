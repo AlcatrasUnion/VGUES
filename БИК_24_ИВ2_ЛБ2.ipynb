{
  "nbformat": 4,
  "nbformat_minor": 0,
  "metadata": {
    "colab": {
      "provenance": [],
      "authorship_tag": "ABX9TyPHUApkb5fckJQu+a7dhxlg",
      "include_colab_link": true
    },
    "kernelspec": {
      "name": "python3",
      "display_name": "Python 3"
    },
    "language_info": {
      "name": "python"
    }
  },
  "cells": [
    {
      "cell_type": "markdown",
      "metadata": {
        "id": "view-in-github",
        "colab_type": "text"
      },
      "source": [
        "<a href=\"https://colab.research.google.com/github/AlcatrasUnion/VGUES/blob/main/%D0%91%D0%98%D0%9A_24_%D0%98%D0%922_%D0%9B%D0%912.ipynb\" target=\"_parent\"><img src=\"https://colab.research.google.com/assets/colab-badge.svg\" alt=\"Open In Colab\"/></a>"
      ]
    },
    {
      "cell_type": "code",
      "execution_count": 19,
      "metadata": {
        "colab": {
          "base_uri": "https://localhost:8080/"
        },
        "id": "qI3GjvnJ_6Gi",
        "outputId": "ecca93d5-1dbd-44a2-978c-12e3adcf7004"
      },
      "outputs": [
        {
          "output_type": "stream",
          "name": "stdout",
          "text": [
            "3.0\n"
          ]
        }
      ],
      "source": [
        "a = 3\n",
        "b = 2\n",
        "c = 0.5 * (a*b)\n",
        "print(c)"
      ]
    },
    {
      "cell_type": "code",
      "source": [],
      "metadata": {
        "id": "beiLeA6sMebB"
      },
      "execution_count": null,
      "outputs": []
    },
    {
      "cell_type": "code",
      "source": [
        "a = 123\n",
        "a1 = 123 // 100\n",
        "a2 = (123 // 10) % 10\n",
        "a3 = 123 % 10\n",
        "print (a1,a2,a3)"
      ],
      "metadata": {
        "colab": {
          "base_uri": "https://localhost:8080/"
        },
        "id": "35O5yPWULX8G",
        "outputId": "d5e97ceb-d2b8-4e24-fe8b-3f6cf28be43b"
      },
      "execution_count": 17,
      "outputs": [
        {
          "output_type": "stream",
          "name": "stdout",
          "text": [
            "1 2 3\n"
          ]
        }
      ]
    },
    {
      "cell_type": "code",
      "source": [
        "a = 6005\n",
        "c = (a // 60) // 60\n",
        "b =  a // 60 - c * 60\n",
        "d = a % 60\n",
        "print (f\"Сейчас {c}:{b}:{d}\")"
      ],
      "metadata": {
        "colab": {
          "base_uri": "https://localhost:8080/"
        },
        "id": "qeg71p3eNR42",
        "outputId": "799169d5-2aaa-463f-9424-81a5761197bc"
      },
      "execution_count": 32,
      "outputs": [
        {
          "output_type": "stream",
          "name": "stdout",
          "text": [
            "Сейчас 1:40:5\n"
          ]
        }
      ]
    }
  ]
}